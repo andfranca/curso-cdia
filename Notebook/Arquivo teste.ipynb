{
  "cells": [
    {
      "cell_type": "code",
      "execution_count": null,
      "id": "8321a5b7-1fdd-488b-80d6-8e475eb9b9ef",
      "metadata": {
        "id": "8321a5b7-1fdd-488b-80d6-8e475eb9b9ef"
      },
      "outputs": [],
      "source": [
        "import pandas as pd"
      ]
    },
    {
      "cell_type": "code",
      "execution_count": null,
      "id": "acbf8317-684e-4dd9-b954-dfdb1e68ffb5",
      "metadata": {
        "id": "acbf8317-684e-4dd9-b954-dfdb1e68ffb5"
      },
      "outputs": [],
      "source": [
        "import matplotlib.pyplot as plt"
      ]
    },
    {
      "cell_type": "code",
      "execution_count": null,
      "id": "a7358045-ee94-44e5-b035-c97f664fc868",
      "metadata": {
        "id": "a7358045-ee94-44e5-b035-c97f664fc868"
      },
      "outputs": [],
      "source": [
        "#Adicionado comentário"
      ]
    }
  ],
  "metadata": {
    "kernelspec": {
      "display_name": "Python 3 (ipykernel)",
      "language": "python",
      "name": "python3"
    },
    "language_info": {
      "codemirror_mode": {
        "name": "ipython",
        "version": 3
      },
      "file_extension": ".py",
      "mimetype": "text/x-python",
      "name": "python",
      "nbconvert_exporter": "python",
      "pygments_lexer": "ipython3",
      "version": "3.12.4"
    },
    "colab": {
      "provenance": []
    }
  },
  "nbformat": 4,
  "nbformat_minor": 5
}